{
 "cells": [
  {
   "cell_type": "markdown",
   "metadata": {},
   "source": [
    "### Making lookup.csv of audio paths and transcripts"
   ]
  },
  {
   "cell_type": "code",
   "execution_count": 14,
   "metadata": {},
   "outputs": [],
   "source": [
    "import os\n",
    "import csv\n",
    "import sys\n",
    "import pandas as pd\n",
    "\n",
    "csv.field_size_limit(sys.maxsize)\n",
    "\n",
    "def create_tsv(input_file, output_file, output2_file):\n",
    "       c=0\n",
    "       with open(input_file, 'r') as infile, open(output_file, 'w', newline='') as outfile,open(output2_file, 'w', newline='') as transcriptWithoutAudio :\n",
    "        reader = csv.reader(infile, delimiter='\\t')\n",
    "        writer = csv.writer(outfile, delimiter='\\t')\n",
    "        writer2 = csv.writer(transcriptWithoutAudio, delimiter='\\t')\n",
    "        writer.writerow(['audio_path', 'transcript'])\n",
    "        writer2.writerow(['audio_path', 'transcript'])\n",
    "        for row in reader:\n",
    "            audio_file = row[0]\n",
    "            transcript = row[2]\n",
    "            first_digit = audio_file[0]\n",
    "            first_two_digits = audio_file[:2]\n",
    "            audio_path = os.path.join('/media/switchblade/Windows/Users/heman/OneDrive/Desktop/BITS/Coding/Projects/SinhaVoice/audio',f'asr_sinhala_{first_digit}/asr_sinhala/data/{first_two_digits}', f'{audio_file}.flac')\n",
    "            if os.path.exists(audio_path):\n",
    "                writer.writerow([audio_path, transcript])\n",
    "            else:\n",
    "                writer2.writerow([audio_file, transcript])     \n",
    "        \n",
    "# Define the paths\n",
    "input_file = '/media/switchblade/Windows/Users/heman/OneDrive/Desktop/BITS/Coding/Projects/SinhaVoice/tsv_files/utt_spk_text.tsv'  # File containing audio file names and transcripts\n",
    "output_file = './tsv_files/lookup.tsv'  \n",
    "output2_file='./tsv_files/transcriptButNoAudio.tsv'          # Output TSV file\n",
    "\n",
    "# Create the TSV file\n",
    "create_tsv(input_file, output_file,output2_file)"
   ]
  },
  {
   "cell_type": "markdown",
   "metadata": {},
   "source": [
    "#### Tokenizing transcripts"
   ]
  },
  {
   "cell_type": "code",
   "execution_count": 15,
   "metadata": {},
   "outputs": [],
   "source": [
    "\n",
    "def tokenize(text):\n",
    "    return text.split()\n",
    "df=pd.read_csv('./tsv_files/lookup.tsv',delimiter='\\t')\n",
    "df['tokens'] = df['transcript'].apply(tokenize)\n",
    "\n"
   ]
  },
  {
   "cell_type": "markdown",
   "metadata": {},
   "source": [
    "#### Vocabulary Creation"
   ]
  },
  {
   "cell_type": "code",
   "execution_count": 16,
   "metadata": {},
   "outputs": [
    {
     "name": "stdout",
     "output_type": "stream",
     "text": [
      "Vocabulary size: 5000\n"
     ]
    }
   ],
   "source": [
    "from collections import Counter\n",
    "\n",
    "# Flatten the list of tokenized sentences into a list of tokens\n",
    "all_tokens = [token for sublist in df['tokens'] for token in sublist]\n",
    "\n",
    "# Create a vocabulary with the frequency of each token\n",
    "vocabulary = Counter(all_tokens)\n",
    "\n",
    "# Optional: Limit the vocabulary size\n",
    "vocab_size = 5000  # You can adjust this as needed\n",
    "vocabulary = dict(vocabulary.most_common(vocab_size))\n",
    "\n",
    "# Save the vocabulary to a file if needed\n",
    "with open('./tsv_files/vocabulary.txt', 'w') as f:\n",
    "    for token in vocabulary:\n",
    "        f.write(f\"{token}\\n\")\n",
    "\n",
    "print(f\"Vocabulary size: {len(vocabulary)}\")\n"
   ]
  },
  {
   "cell_type": "markdown",
   "metadata": {},
   "source": [
    "Mapping tokens to indices "
   ]
  },
  {
   "cell_type": "code",
   "execution_count": 17,
   "metadata": {},
   "outputs": [],
   "source": [
    "# Create a mapping from tokens to indices\n",
    "token_to_idx = {token: idx for idx, token in enumerate(vocabulary.keys())}\n",
    "\n",
    "# Convert the tokens in the dataset to indices\n",
    "df['token_indices'] = df['tokens'].apply(lambda tokens: [token_to_idx.get(token, 0) for token in tokens])\n",
    "\n",
    "# Example output\n",
    "df.to_csv('./tsv_files/processed.tsv',sep='\\t',index=False)\n"
   ]
  }
 ],
 "metadata": {
  "kernelspec": {
   "display_name": "Python 3",
   "language": "python",
   "name": "python3"
  },
  "language_info": {
   "codemirror_mode": {
    "name": "ipython",
    "version": 3
   },
   "file_extension": ".py",
   "mimetype": "text/x-python",
   "name": "python",
   "nbconvert_exporter": "python",
   "pygments_lexer": "ipython3",
   "version": "3.10.12"
  }
 },
 "nbformat": 4,
 "nbformat_minor": 2
}
